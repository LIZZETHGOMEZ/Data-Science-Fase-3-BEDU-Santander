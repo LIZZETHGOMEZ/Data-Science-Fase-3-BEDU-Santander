{
  "nbformat": 4,
  "nbformat_minor": 0,
  "metadata": {
    "colab": {
      "name": "Modulo_4.ipynb",
      "provenance": [],
      "authorship_tag": "ABX9TyMOIUCKILC50UqNCI+Iyo8B",
      "include_colab_link": true
    },
    "kernelspec": {
      "name": "python3",
      "display_name": "Python 3"
    },
    "language_info": {
      "name": "python"
    }
  },
  "cells": [
    {
      "cell_type": "markdown",
      "metadata": {
        "id": "view-in-github",
        "colab_type": "text"
      },
      "source": [
        "<a href=\"https://colab.research.google.com/github/LIZZETHGOMEZ/Data-Science-Fase-3-BEDU-Santander/blob/main/Notebook.ipynb\" target=\"_parent\"><img src=\"https://colab.research.google.com/assets/colab-badge.svg\" alt=\"Open In Colab\"/></a>"
      ]
    },
    {
      "cell_type": "markdown",
      "metadata": {
        "id": "qZR1qwf3PHez"
      },
      "source": [
        "# Data Science Fase 3\n",
        "## Módulo 4: Análisis de Datos con Python\n",
        "## Team\n",
        "- Omar Garduza\n",
        "- Lizzeth Gómez Rodríguez\n",
        "- Edgar Casanova\n",
        "- Alan Sandoval\n"
      ]
    },
    {
      "cell_type": "markdown",
      "metadata": {
        "id": "tbEzuKDeK1av"
      },
      "source": [
        "# NOTA: Hay que poner la descripción de las variables nuevamente"
      ]
    },
    {
      "cell_type": "code",
      "metadata": {
        "id": "tan6gAvBPGpw"
      },
      "source": [
        "import pandas as pd\n",
        "import numpy as np\n",
        "from scipy import stats"
      ],
      "execution_count": 2,
      "outputs": []
    },
    {
      "cell_type": "code",
      "metadata": {
        "id": "AjKpYwZATupd",
        "colab": {
          "base_uri": "https://localhost:8080/",
          "height": 224
        },
        "outputId": "863f551f-494f-4b5b-90a0-6fddfc49ff2d"
      },
      "source": [
        "# Cargamos los datos a utilizar (previamente procesados)\n",
        "df = pd.read_csv(\"https://raw.githubusercontent.com/LIZZETHGOMEZ/Data-Science-Fase-3-BEDU-Santander/main/Data/cleanData.csv\", index_col = 0)\n",
        "df.head()"
      ],
      "execution_count": 3,
      "outputs": [
        {
          "output_type": "execute_result",
          "data": {
            "text/html": [
              "<div>\n",
              "<style scoped>\n",
              "    .dataframe tbody tr th:only-of-type {\n",
              "        vertical-align: middle;\n",
              "    }\n",
              "\n",
              "    .dataframe tbody tr th {\n",
              "        vertical-align: top;\n",
              "    }\n",
              "\n",
              "    .dataframe thead th {\n",
              "        text-align: right;\n",
              "    }\n",
              "</style>\n",
              "<table border=\"1\" class=\"dataframe\">\n",
              "  <thead>\n",
              "    <tr style=\"text-align: right;\">\n",
              "      <th></th>\n",
              "      <th>country</th>\n",
              "      <th>year</th>\n",
              "      <th>respiratory_infections_and_tuberculosis_number</th>\n",
              "      <th>respiratory_infections_and_tuberculosis_percent</th>\n",
              "      <th>respiratory_infections_and_tuberculosis_rate</th>\n",
              "      <th>chronic_respiratory_diseases_number</th>\n",
              "      <th>chronic_respiratory_diseases_percent</th>\n",
              "      <th>chronic_respiratory_diseases_rate</th>\n",
              "      <th>all_greenhouse_gas</th>\n",
              "      <th>CO2</th>\n",
              "      <th>CH4</th>\n",
              "      <th>N2O</th>\n",
              "      <th>Fgas</th>\n",
              "      <th>mean_annual_temp</th>\n",
              "      <th>total_respiratory_diseases</th>\n",
              "      <th>total_diseases_percent</th>\n",
              "    </tr>\n",
              "  </thead>\n",
              "  <tbody>\n",
              "    <tr>\n",
              "      <th>0</th>\n",
              "      <td>Mexico</td>\n",
              "      <td>1990</td>\n",
              "      <td>39290</td>\n",
              "      <td>0.08916</td>\n",
              "      <td>45.96035</td>\n",
              "      <td>16909</td>\n",
              "      <td>0.03839</td>\n",
              "      <td>19.78044</td>\n",
              "      <td>417.45</td>\n",
              "      <td>290.01</td>\n",
              "      <td>88.10</td>\n",
              "      <td>37.47</td>\n",
              "      <td>1.87</td>\n",
              "      <td>20.958333</td>\n",
              "      <td>56199</td>\n",
              "      <td>0.12755</td>\n",
              "    </tr>\n",
              "    <tr>\n",
              "      <th>1</th>\n",
              "      <td>Canada</td>\n",
              "      <td>1990</td>\n",
              "      <td>6797</td>\n",
              "      <td>0.03571</td>\n",
              "      <td>24.93967</td>\n",
              "      <td>9319</td>\n",
              "      <td>0.04895</td>\n",
              "      <td>34.19049</td>\n",
              "      <td>626.36</td>\n",
              "      <td>483.99</td>\n",
              "      <td>87.75</td>\n",
              "      <td>42.92</td>\n",
              "      <td>11.70</td>\n",
              "      <td>-7.450000</td>\n",
              "      <td>16116</td>\n",
              "      <td>0.08466</td>\n",
              "    </tr>\n",
              "    <tr>\n",
              "      <th>2</th>\n",
              "      <td>Israel</td>\n",
              "      <td>1990</td>\n",
              "      <td>772</td>\n",
              "      <td>0.02651</td>\n",
              "      <td>15.56473</td>\n",
              "      <td>1327</td>\n",
              "      <td>0.04556</td>\n",
              "      <td>26.75464</td>\n",
              "      <td>43.95</td>\n",
              "      <td>33.78</td>\n",
              "      <td>8.35</td>\n",
              "      <td>1.62</td>\n",
              "      <td>0.21</td>\n",
              "      <td>19.816667</td>\n",
              "      <td>2099</td>\n",
              "      <td>0.07207</td>\n",
              "    </tr>\n",
              "    <tr>\n",
              "      <th>3</th>\n",
              "      <td>Japan</td>\n",
              "      <td>1990</td>\n",
              "      <td>68816</td>\n",
              "      <td>0.08483</td>\n",
              "      <td>54.67434</td>\n",
              "      <td>29862</td>\n",
              "      <td>0.03681</td>\n",
              "      <td>23.72535</td>\n",
              "      <td>1109.37</td>\n",
              "      <td>1016.89</td>\n",
              "      <td>37.86</td>\n",
              "      <td>28.33</td>\n",
              "      <td>26.30</td>\n",
              "      <td>11.658333</td>\n",
              "      <td>98678</td>\n",
              "      <td>0.12164</td>\n",
              "    </tr>\n",
              "    <tr>\n",
              "      <th>4</th>\n",
              "      <td>Mexico</td>\n",
              "      <td>1991</td>\n",
              "      <td>37046</td>\n",
              "      <td>0.08447</td>\n",
              "      <td>42.53984</td>\n",
              "      <td>17171</td>\n",
              "      <td>0.03917</td>\n",
              "      <td>19.71738</td>\n",
              "      <td>435.45</td>\n",
              "      <td>308.41</td>\n",
              "      <td>88.71</td>\n",
              "      <td>36.36</td>\n",
              "      <td>1.97</td>\n",
              "      <td>20.891667</td>\n",
              "      <td>54217</td>\n",
              "      <td>0.12364</td>\n",
              "    </tr>\n",
              "  </tbody>\n",
              "</table>\n",
              "</div>"
            ],
            "text/plain": [
              "  country  year  ...  total_respiratory_diseases  total_diseases_percent\n",
              "0  Mexico  1990  ...                       56199                 0.12755\n",
              "1  Canada  1990  ...                       16116                 0.08466\n",
              "2  Israel  1990  ...                        2099                 0.07207\n",
              "3   Japan  1990  ...                       98678                 0.12164\n",
              "4  Mexico  1991  ...                       54217                 0.12364\n",
              "\n",
              "[5 rows x 16 columns]"
            ]
          },
          "metadata": {},
          "execution_count": 3
        }
      ]
    },
    {
      "cell_type": "markdown",
      "metadata": {
        "id": "2WpiFxsTIXsQ"
      },
      "source": [
        "# NOTA\n",
        "## Por qué el registro 4 es 1991 ?? Al parecer el df no está ordenado por años ni por países"
      ]
    },
    {
      "cell_type": "markdown",
      "metadata": {
        "id": "PW9KiKqRAgkF"
      },
      "source": [
        "## 1. Estimados de Locación y Variabilidad"
      ]
    },
    {
      "cell_type": "markdown",
      "metadata": {
        "id": "LWUNtGeLAtTn"
      },
      "source": [
        "Para una mejor descripción de los datos utilizaremos estadística descriptiva que nos permitirá conocer un panorama más detallado de los datos.\n",
        "\n",
        "### Media\n",
        "\n",
        "En principio nos gustaría conocer el valor típico de las muertes por enfermedades respiratorias en 1990 y en el año más reciente para saber cómo ha cambiado la cifra a lo largo del tiempo.\n",
        "Y además conocer el valor típico de las muertes durante todo el periodo estudiado."
      ]
    },
    {
      "cell_type": "code",
      "metadata": {
        "id": "qeTDMRlGT2g2",
        "colab": {
          "base_uri": "https://localhost:8080/"
        },
        "outputId": "33f51256-0c96-4a0d-b2de-4c03847cd608"
      },
      "source": [
        "# Media del número de muertes totales por enfermedades respiratorias ( infeciones y tuberculosisi + crónicas)\n",
        "mean_90 = df[df['year'] == 1990]['total_respiratory_diseases'].mean()\n",
        "print(f'El promedio de las muertes por enfermedades respiratorias de los países de la OCDE en 1990 es de {mean_90:,.2f}')\n",
        "\n",
        "mean_18 = df[df['year'] == 2018]['total_respiratory_diseases'].mean()\n",
        "print(f'El promedio de las muertes por enfermedades respiratorias de los países de la OCDE en 2018 es de {mean_18:,.2f}')\n",
        "\n",
        "mean_time = df['total_respiratory_diseases'].mean()\n",
        "print(f'El promedio de las muertes por enfermedades respiratorias de los países de la OCDE durante el periodo 1990 -2018 es de {mean_time:,.2f}')"
      ],
      "execution_count": 24,
      "outputs": [
        {
          "output_type": "stream",
          "text": [
            "El promedio de las muertes por enfermedades respiratorias de los países de la OCDE en 1990 es de 18,863.88\n",
            "El promedio de las muertes por enfermedades respiratorias de los países de la OCDE en 2018 es de 24,183.38\n",
            "El promedio de las muertes por enfermedades respiratorias de los países de la OCDE durante el periodo 1990 -2018 es de 20,294.36\n"
          ],
          "name": "stdout"
        }
      ]
    },
    {
      "cell_type": "markdown",
      "metadata": {
        "id": "tr1A30IYHzm4"
      },
      "source": [
        "Notemos que de 1990 a 2018 las muertes por enfermedades respiratorias se han incrementado, veamos en que porcentaje a sido este incremento, para ello creamos una función que por practicidad podremos usar varias veces dentro de nuestro análisis.\n",
        "\n",
        "\n"
      ]
    },
    {
      "cell_type": "code",
      "metadata": {
        "id": "vU2-dZznEKsn",
        "colab": {
          "base_uri": "https://localhost:8080/"
        },
        "outputId": "27fe450f-4c72-4a08-c80e-c6e792827dae"
      },
      "source": [
        "# Porcentaje\n",
        "def percentage(num_1,num_2):\n",
        "  return num_2/num_1*100\n",
        "\n",
        "incremento = percentage(mean_90, (mean_18-mean_90))\n",
        "\n",
        "# Incremento de las muertes por enfermedades respiratorias\n",
        "print(f'El promedio de las muertes por enfermedades respiratorias en los países de la OCDE se han incrementado en un {incremento:.2f}% durante el periodo de 1990 a 2018')\n"
      ],
      "execution_count": 5,
      "outputs": [
        {
          "output_type": "stream",
          "text": [
            "El promedio de las muertes por enfermedades respiratorias en los países de la OCDE se han incrementado en un 28.20% durante el periodo de 1990 a 2018\n"
          ],
          "name": "stdout"
        }
      ]
    },
    {
      "cell_type": "markdown",
      "metadata": {
        "id": "Nee0G1Nv6gAU"
      },
      "source": [
        "Observemos ahora los valores típicos para cada país en el periodo de estudio (1990-2018)\n"
      ]
    },
    {
      "cell_type": "code",
      "metadata": {
        "id": "88nEN62w6fXf",
        "outputId": "d20bc57a-9705-460e-8453-d1aa956e19a7",
        "colab": {
          "base_uri": "https://localhost:8080/"
        }
      },
      "source": [
        "# Agrupamos por países\n",
        "paises = df.groupby(['country'])\n",
        "\n",
        "# Sumamos las muertes totales por enfermedades respiratorias de cada país durante el periodo 1990-2018\n",
        "# y lo dividimos entre el total de años\n",
        "round(paises['total_respiratory_diseases'].sum()/29, 2)"
      ],
      "execution_count": 22,
      "outputs": [
        {
          "output_type": "execute_result",
          "data": {
            "text/plain": [
              "country\n",
              "Australia          11232.07\n",
              "Austria             4044.55\n",
              "Belgium            12119.97\n",
              "Canada             20468.45\n",
              "Chile               9785.34\n",
              "Denmark             6200.41\n",
              "Estonia              632.00\n",
              "Finland             3401.45\n",
              "France             41030.79\n",
              "Germany            57779.31\n",
              "Greece              7618.93\n",
              "Hungary             6537.93\n",
              "Iceland              180.69\n",
              "Ireland             4082.62\n",
              "Israel              2698.38\n",
              "Italy              36647.66\n",
              "Japan             132896.72\n",
              "Latvia              1100.07\n",
              "Luxembourg           303.03\n",
              "Mexico             50941.62\n",
              "Netherlands        15179.48\n",
              "New Zealand         2644.72\n",
              "Norway              4604.00\n",
              "Poland             21374.03\n",
              "Portugal           11725.45\n",
              "Slovakia            3136.55\n",
              "Slovenia            1274.34\n",
              "Spain              41097.76\n",
              "Sweden              6923.31\n",
              "Switzerland         4725.38\n",
              "Turkey             42297.10\n",
              "United Kingdom     84735.34\n",
              "Name: total_respiratory_diseases, dtype: float64"
            ]
          },
          "metadata": {},
          "execution_count": 22
        }
      ]
    },
    {
      "cell_type": "markdown",
      "metadata": {
        "id": "A5dIkKRVeOxT"
      },
      "source": [
        "Notemos que existen grandes diferencias entre los países respecto al promedio de todos en ese periodo que es de **20,294.36** ('mean_time') lo que quiere decir que los países presentan diferentes características y aplican diferentes políticas de salud y de combate al cambio climático, por lo que el impacto sobre la población de cada país es distinto.\n",
        "\n",
        "Motivo por el cual es importante tener ambas perspectivas, una conjunta de todos los países para poder establecer una línea de referencia, otra que tome en cuenta los aspectos de cada país."
      ]
    },
    {
      "cell_type": "markdown",
      "metadata": {
        "id": "SNLhQyQ_UJ-h"
      },
      "source": [
        "### Mediana\n",
        "\n"
      ]
    },
    {
      "cell_type": "code",
      "metadata": {
        "id": "GqbvXvvkTt3M",
        "outputId": "eb92c125-70d3-4ccc-b38e-50de9914b8f7",
        "colab": {
          "base_uri": "https://localhost:8080/"
        }
      },
      "source": [
        "# Mediana\n",
        "med_90 = df[df['year'] == 1990]['total_respiratory_diseases'].median()\n",
        "print(f'La mediana de las muertes por enfermedades respiratorias de los países de la OCDE en 1990 es de {med_90:,.2f}')\n",
        "\n",
        "med_18 = df[df['year'] == 2018]['total_respiratory_diseases'].median()\n",
        "print(f'La mediana de las muertes por enfermedades respiratorias de los países de la OCDE en 2018 es de {med_18:,.2f}')\n",
        "\n",
        "med_time = df['total_respiratory_diseases'].median()\n",
        "print(f'La mediana de las muertes por enfermedades respiratorias de los países de la OCDE durante el periodo 1990-2018 es de {med_time:,.2f}')"
      ],
      "execution_count": 26,
      "outputs": [
        {
          "output_type": "stream",
          "text": [
            "La mediana de las muertes por enfermedades respiratorias de los países de la OCDE en 1990 es de 7,142.50\n",
            "La mediana de las muertes por enfermedades respiratorias de los países de la OCDE en 2018 es de 9,291.50\n",
            "La mediana de las muertes por enfermedades respiratorias de los países de la OCDE durante el periodo 1990-2018 es de 7,080.50\n"
          ],
          "name": "stdout"
        }
      ]
    },
    {
      "cell_type": "markdown",
      "metadata": {
        "id": "0AH73aMWgrYe"
      },
      "source": [
        "Observemos que la mediana está muy por debajo de los valores promedios antes encontrados, por lo que los datos podrían estar sesgados a la derecha, o quizá haya presencia de outliers.\n",
        "\n",
        "Para entender mejor que podría estar pasando utilizaremos la media truncada, que nos permitte recortar un porcentaje de los valores extremos de nuestra muestra."
      ]
    },
    {
      "cell_type": "markdown",
      "metadata": {
        "id": "t_L-iNSogoiw"
      },
      "source": [
        "### Media Truncada"
      ]
    },
    {
      "cell_type": "code",
      "metadata": {
        "id": "k5xEabSYgIey"
      },
      "source": [
        ""
      ],
      "execution_count": null,
      "outputs": []
    }
  ]
}