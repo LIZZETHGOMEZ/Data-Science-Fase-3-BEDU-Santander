{
  "nbformat": 4,
  "nbformat_minor": 0,
  "metadata": {
    "colab": {
      "name": "Modulo_4.ipynb",
      "provenance": [],
      "include_colab_link": true
    },
    "kernelspec": {
      "display_name": "Python 3",
      "language": "python",
      "name": "python3"
    },
    "language_info": {
      "codemirror_mode": {
        "name": "ipython",
        "version": 3
      },
      "file_extension": ".py",
      "mimetype": "text/x-python",
      "name": "python",
      "nbconvert_exporter": "python",
      "pygments_lexer": "ipython3",
      "version": "3.8.8"
    }
  },
  "cells": [
    {
      "cell_type": "markdown",
      "metadata": {
        "id": "view-in-github",
        "colab_type": "text"
      },
      "source": [
        "<a href=\"https://colab.research.google.com/github/LIZZETHGOMEZ/Data-Science-Fase-3-BEDU-Santander/blob/upd_p1/Notebook.ipynb\" target=\"_parent\"><img src=\"https://colab.research.google.com/assets/colab-badge.svg\" alt=\"Open In Colab\"/></a>"
      ]
    },
    {
      "cell_type": "markdown",
      "metadata": {
        "id": "qZR1qwf3PHez"
      },
      "source": [
        "# Data Science Fase 3\n",
        "## Módulo 4: Análisis de Datos con Python\n",
        "## Team\n",
        "- [Omar Garduza](https://github.com/OmarGard)\n",
        "- [Lizzeth Gómez Rodríguez](https://github.com/LIZZETHGOMEZ)\n",
        "- [Edgar Casanova](https://github.com/ecardoz)\n",
        "- [Alan Sandoval](https://github.com/SanLnAlan)\n"
      ]
    },
    {
      "cell_type": "markdown",
      "metadata": {
        "id": "YpaTa6TZTfxb"
      },
      "source": [
        "## Descripción de los datos\n",
        "1. **country**: Países miembros de la OCDE\n",
        "2. **year**: Año (1990-2018)\n",
        "3. **respiratory_infections_and_tuberculosis_number**: Número de muertes por infecciones respiratorias y tuberculosis\n",
        "4. **respiratory_infections_and_tuberculosis_percent**: Porcentaje de muertes por infecciones respiratorias y tuberculosis\n",
        "5. **respiratory_infections_and_tuberculosis_rate**: Tasa de muertes por infecciones respiratorias y tuberculosis\n",
        "6. **chronic_respiratory_diseases_number**: Número de muertes por enfermedades respiratorias crónicas\n",
        "7. **chronic_respiratory_diseases_percent**: Porcentaje de muertes por enfermedades respiratorias crónicas\n",
        "8. **chronic_respiratory_diseases_rate**: Tasa de muertes por enfermedades respiratorias crónicas\n",
        "9. **all_greenhouse_gas**: Total de gases de efecto invernadero\n",
        "10.\t**CO2**: Emisiones de dióxido de carbono\n",
        "11. **CH4**: Emisiones de metano\n",
        "12.\t**N2O**: Emisiones de Nitrógeno\n",
        "13.\t**Fgas**: Emisiones de gases de Fluoruro\n",
        "14.\t**mean_annual_temp**: Temperatura promedio en grados Celsius\n",
        "15. **total_respiratory_diseases** Total de muertes por enfermedades respiratorias\n",
        "16.\t**total_diseases_percent** Porcentaje total de muertes por enfermedades respiratorias"
      ]
    },
    {
      "cell_type": "code",
      "metadata": {
        "id": "tan6gAvBPGpw"
      },
      "source": [
        "import pandas as pd\n",
        "import numpy as np\n",
        "from scipy import stats\n",
        "import seaborn as sns"
      ],
      "execution_count": 1,
      "outputs": []
    },
    {
      "cell_type": "code",
      "metadata": {
        "colab": {
          "base_uri": "https://localhost:8080/",
          "height": 224
        },
        "id": "AjKpYwZATupd",
        "outputId": "8b840c13-74e4-4da0-dad4-3205a88c253a"
      },
      "source": [
        "# Cargamos los datos a utilizar (previamente procesados)\n",
        "df = pd.read_csv(\"https://raw.githubusercontent.com/LIZZETHGOMEZ/Data-Science-Fase-3-BEDU-Santander/main/Data/cleanData.csv\", index_col = 0)\n",
        "df.head()"
      ],
      "execution_count": 2,
      "outputs": [
        {
          "output_type": "execute_result",
          "data": {
            "text/html": [
              "<div>\n",
              "<style scoped>\n",
              "    .dataframe tbody tr th:only-of-type {\n",
              "        vertical-align: middle;\n",
              "    }\n",
              "\n",
              "    .dataframe tbody tr th {\n",
              "        vertical-align: top;\n",
              "    }\n",
              "\n",
              "    .dataframe thead th {\n",
              "        text-align: right;\n",
              "    }\n",
              "</style>\n",
              "<table border=\"1\" class=\"dataframe\">\n",
              "  <thead>\n",
              "    <tr style=\"text-align: right;\">\n",
              "      <th></th>\n",
              "      <th>country</th>\n",
              "      <th>year</th>\n",
              "      <th>respiratory_infections_and_tuberculosis_number</th>\n",
              "      <th>respiratory_infections_and_tuberculosis_percent</th>\n",
              "      <th>respiratory_infections_and_tuberculosis_rate</th>\n",
              "      <th>chronic_respiratory_diseases_number</th>\n",
              "      <th>chronic_respiratory_diseases_percent</th>\n",
              "      <th>chronic_respiratory_diseases_rate</th>\n",
              "      <th>all_greenhouse_gas</th>\n",
              "      <th>CO2</th>\n",
              "      <th>CH4</th>\n",
              "      <th>N2O</th>\n",
              "      <th>Fgas</th>\n",
              "      <th>mean_annual_temp</th>\n",
              "      <th>total_respiratory_diseases</th>\n",
              "      <th>total_diseases_percent</th>\n",
              "    </tr>\n",
              "  </thead>\n",
              "  <tbody>\n",
              "    <tr>\n",
              "      <th>0</th>\n",
              "      <td>Mexico</td>\n",
              "      <td>1990</td>\n",
              "      <td>39290</td>\n",
              "      <td>0.08916</td>\n",
              "      <td>45.96035</td>\n",
              "      <td>16909</td>\n",
              "      <td>0.03839</td>\n",
              "      <td>19.78044</td>\n",
              "      <td>417.45</td>\n",
              "      <td>290.01</td>\n",
              "      <td>88.10</td>\n",
              "      <td>37.47</td>\n",
              "      <td>1.87</td>\n",
              "      <td>20.958333</td>\n",
              "      <td>56199</td>\n",
              "      <td>0.12755</td>\n",
              "    </tr>\n",
              "    <tr>\n",
              "      <th>1</th>\n",
              "      <td>Canada</td>\n",
              "      <td>1990</td>\n",
              "      <td>6797</td>\n",
              "      <td>0.03571</td>\n",
              "      <td>24.93967</td>\n",
              "      <td>9319</td>\n",
              "      <td>0.04895</td>\n",
              "      <td>34.19049</td>\n",
              "      <td>626.36</td>\n",
              "      <td>483.99</td>\n",
              "      <td>87.75</td>\n",
              "      <td>42.92</td>\n",
              "      <td>11.70</td>\n",
              "      <td>-7.450000</td>\n",
              "      <td>16116</td>\n",
              "      <td>0.08466</td>\n",
              "    </tr>\n",
              "    <tr>\n",
              "      <th>2</th>\n",
              "      <td>Israel</td>\n",
              "      <td>1990</td>\n",
              "      <td>772</td>\n",
              "      <td>0.02651</td>\n",
              "      <td>15.56473</td>\n",
              "      <td>1327</td>\n",
              "      <td>0.04556</td>\n",
              "      <td>26.75464</td>\n",
              "      <td>43.95</td>\n",
              "      <td>33.78</td>\n",
              "      <td>8.35</td>\n",
              "      <td>1.62</td>\n",
              "      <td>0.21</td>\n",
              "      <td>19.816667</td>\n",
              "      <td>2099</td>\n",
              "      <td>0.07207</td>\n",
              "    </tr>\n",
              "    <tr>\n",
              "      <th>3</th>\n",
              "      <td>Japan</td>\n",
              "      <td>1990</td>\n",
              "      <td>68816</td>\n",
              "      <td>0.08483</td>\n",
              "      <td>54.67434</td>\n",
              "      <td>29862</td>\n",
              "      <td>0.03681</td>\n",
              "      <td>23.72535</td>\n",
              "      <td>1109.37</td>\n",
              "      <td>1016.89</td>\n",
              "      <td>37.86</td>\n",
              "      <td>28.33</td>\n",
              "      <td>26.30</td>\n",
              "      <td>11.658333</td>\n",
              "      <td>98678</td>\n",
              "      <td>0.12164</td>\n",
              "    </tr>\n",
              "    <tr>\n",
              "      <th>4</th>\n",
              "      <td>Mexico</td>\n",
              "      <td>1991</td>\n",
              "      <td>37046</td>\n",
              "      <td>0.08447</td>\n",
              "      <td>42.53984</td>\n",
              "      <td>17171</td>\n",
              "      <td>0.03917</td>\n",
              "      <td>19.71738</td>\n",
              "      <td>435.45</td>\n",
              "      <td>308.41</td>\n",
              "      <td>88.71</td>\n",
              "      <td>36.36</td>\n",
              "      <td>1.97</td>\n",
              "      <td>20.891667</td>\n",
              "      <td>54217</td>\n",
              "      <td>0.12364</td>\n",
              "    </tr>\n",
              "  </tbody>\n",
              "</table>\n",
              "</div>"
            ],
            "text/plain": [
              "  country  year  ...  total_respiratory_diseases  total_diseases_percent\n",
              "0  Mexico  1990  ...                       56199                 0.12755\n",
              "1  Canada  1990  ...                       16116                 0.08466\n",
              "2  Israel  1990  ...                        2099                 0.07207\n",
              "3   Japan  1990  ...                       98678                 0.12164\n",
              "4  Mexico  1991  ...                       54217                 0.12364\n",
              "\n",
              "[5 rows x 16 columns]"
            ]
          },
          "metadata": {},
          "execution_count": 2
        }
      ]
    },
    {
      "cell_type": "markdown",
      "metadata": {
        "id": "PW9KiKqRAgkF"
      },
      "source": [
        "## 1. Estimados de Locación y Variabilidad"
      ]
    },
    {
      "cell_type": "markdown",
      "metadata": {
        "id": "LWUNtGeLAtTn"
      },
      "source": [
        "Para una mejor descripción de los datos utilizaremos estadística descriptiva que nos permitirá conocer un panorama más detallado de los datos.\n",
        "\n",
        "### Media\n",
        "\n",
        "En principio nos gustaría conocer el valor típico de todas nuestras variables numéricas a lo largo del tiempo, es decir el promedio histórico de los países de la OCDE."
      ]
    },
    {
      "cell_type": "code",
      "metadata": {
        "colab": {
          "base_uri": "https://localhost:8080/"
        },
        "id": "C-o30W3m13xH",
        "outputId": "93cf114a-6c23-4742-eccd-1744f17fc096"
      },
      "source": [
        "# Promedio histórico de las variables durante el periodo 1990-2018\n",
        "# Seleccionamos las variables numericas\n",
        "var_num = ['total_respiratory_diseases','respiratory_infections_and_tuberculosis_number','chronic_respiratory_diseases_number', 'all_greenhouse_gas','CO2','CH4','N2O','Fgas','mean_annual_temp']\n",
        "round(df[var_num].mean(),2)"
      ],
      "execution_count": 3,
      "outputs": [
        {
          "output_type": "execute_result",
          "data": {
            "text/plain": [
              "total_respiratory_diseases                        20294.36\n",
              "respiratory_infections_and_tuberculosis_number     9693.11\n",
              "chronic_respiratory_diseases_number               10601.25\n",
              "all_greenhouse_gas                                  243.08\n",
              "CO2                                                 190.63\n",
              "CH4                                                  31.44\n",
              "N2O                                                  16.07\n",
              "Fgas                                                  4.93\n",
              "mean_annual_temp                                      9.61\n",
              "dtype: float64"
            ]
          },
          "metadata": {},
          "execution_count": 3
        }
      ]
    },
    {
      "cell_type": "markdown",
      "metadata": {
        "id": "w0PcYNgu3mxH"
      },
      "source": [
        "Asmismo también nos gustaría conocer el valor típico de las muertes por enfermedades respiratorias pero del año inicial 1990 y del año final 2018 para saber cómo ha cambiado la cifra a lo largo del tiempo."
      ]
    },
    {
      "cell_type": "code",
      "metadata": {
        "colab": {
          "base_uri": "https://localhost:8080/"
        },
        "id": "qeTDMRlGT2g2",
        "outputId": "fa4e9d4c-c017-414b-b316-d3ec7a19d4f8"
      },
      "source": [
        "# Media del número de muertes totales por enfermedades respiratorias ( infeciones y tuberculosisi + crónicas)\n",
        "mean_90 = df[df['year'] == 1990]['total_respiratory_diseases'].mean()\n",
        "print(f'El promedio de las muertes por enfermedades respiratorias de los países de la OCDE en 1990 es de {mean_90:,.2f}')\n",
        "\n",
        "mean_18 = df[df['year'] == 2018]['total_respiratory_diseases'].mean()\n",
        "print(f'El promedio de las muertes por enfermedades respiratorias de los países de la OCDE en 2018 es de {mean_18:,.2f}')\n",
        "\n",
        "mean_total = df['total_respiratory_diseases'].mean()\n",
        "print(f'El promedio de las muertes por enfermedades respiratorias de los países de la OCDE durante el periodo 1990-2018 es de {mean_total:,.2f}')"
      ],
      "execution_count": 4,
      "outputs": [
        {
          "output_type": "stream",
          "name": "stdout",
          "text": [
            "El promedio de las muertes por enfermedades respiratorias de los países de la OCDE en 1990 es de 18,863.88\n",
            "El promedio de las muertes por enfermedades respiratorias de los países de la OCDE en 2018 es de 24,183.38\n",
            "El promedio de las muertes por enfermedades respiratorias de los países de la OCDE durante el periodo 1990-2018 es de 20,294.36\n"
          ]
        }
      ]
    },
    {
      "cell_type": "markdown",
      "metadata": {
        "id": "tr1A30IYHzm4"
      },
      "source": [
        "Notemos que de 1990 a 2018 las muertes por enfermedades respiratorias se han incrementado, veamos en que porcentaje a sido este incremento, para ello creamos una función que por practicidad podremos usar varias veces dentro de nuestro análisis.\n",
        "\n",
        "\n"
      ]
    },
    {
      "cell_type": "code",
      "metadata": {
        "colab": {
          "base_uri": "https://localhost:8080/"
        },
        "id": "vU2-dZznEKsn",
        "outputId": "93bcfec2-1831-4498-8d63-32a1cf09bade"
      },
      "source": [
        "# Porcentaje\n",
        "def percentage(num_1,num_2):\n",
        "  return num_2/num_1*100\n",
        "\n",
        "incremento = percentage(mean_90, (mean_18-mean_90))\n",
        "\n",
        "# Incremento de las muertes por enfermedades respiratorias\n",
        "print(f'El promedio de las muertes por enfermedades respiratorias en los países de la OCDE se han incrementado en un {incremento:.2f}% durante el periodo de 1990 a 2018')\n"
      ],
      "execution_count": 5,
      "outputs": [
        {
          "output_type": "stream",
          "name": "stdout",
          "text": [
            "El promedio de las muertes por enfermedades respiratorias en los países de la OCDE se han incrementado en un 28.20% durante el periodo de 1990 a 2018\n"
          ]
        }
      ]
    },
    {
      "cell_type": "markdown",
      "metadata": {
        "id": "Nee0G1Nv6gAU"
      },
      "source": [
        "Observemos ahora los valores típicos para cada país en el periodo de estudio (1990-2018)\n"
      ]
    },
    {
      "cell_type": "code",
      "metadata": {
        "colab": {
          "base_uri": "https://localhost:8080/"
        },
        "id": "88nEN62w6fXf",
        "outputId": "b663f58a-812f-40f5-fd2e-dbcc258f1002"
      },
      "source": [
        "# Agrupamos por países\n",
        "paises = df.groupby(['country'])\n",
        "\n",
        "# Sumamos las muertes totales por enfermedades respiratorias de cada país durante el periodo 1990-2018\n",
        "# y lo dividimos entre el total de años\n",
        "mean_country = round(paises['total_respiratory_diseases'].sum()/29, 2)\n",
        "mean_country"
      ],
      "execution_count": 6,
      "outputs": [
        {
          "output_type": "execute_result",
          "data": {
            "text/plain": [
              "country\n",
              "Australia          11232.07\n",
              "Austria             4044.55\n",
              "Belgium            12119.97\n",
              "Canada             20468.45\n",
              "Chile               9785.34\n",
              "Denmark             6200.41\n",
              "Estonia              632.00\n",
              "Finland             3401.45\n",
              "France             41030.79\n",
              "Germany            57779.31\n",
              "Greece              7618.93\n",
              "Hungary             6537.93\n",
              "Iceland              180.69\n",
              "Ireland             4082.62\n",
              "Israel              2698.38\n",
              "Italy              36647.66\n",
              "Japan             132896.72\n",
              "Latvia              1100.07\n",
              "Luxembourg           303.03\n",
              "Mexico             50941.62\n",
              "Netherlands        15179.48\n",
              "New Zealand         2644.72\n",
              "Norway              4604.00\n",
              "Poland             21374.03\n",
              "Portugal           11725.45\n",
              "Slovakia            3136.55\n",
              "Slovenia            1274.34\n",
              "Spain              41097.76\n",
              "Sweden              6923.31\n",
              "Switzerland         4725.38\n",
              "Turkey             42297.10\n",
              "United Kingdom     84735.34\n",
              "Name: total_respiratory_diseases, dtype: float64"
            ]
          },
          "metadata": {},
          "execution_count": 6
        }
      ]
    },
    {
      "cell_type": "markdown",
      "metadata": {
        "id": "A5dIkKRVeOxT"
      },
      "source": [
        "Notemos que existen grandes diferencias entre los países respecto al promedio de todos en ese periodo que es de **20,294.36** ('mean_time') lo que quiere decir que los países presentan diferentes características y aplican diferentes políticas de salud y de combate al cambio climático, por lo que el impacto sobre la población de cada país es distinto.\n",
        "\n",
        "Motivo por el cual es importante tener ambas perspectivas, una conjunta de todos los países para poder establecer una línea de referencia, otra que tome en cuenta los aspectos de cada país."
      ]
    },
    {
      "cell_type": "markdown",
      "metadata": {
        "id": "SNLhQyQ_UJ-h"
      },
      "source": [
        "### Mediana\n",
        "\n"
      ]
    },
    {
      "cell_type": "code",
      "metadata": {
        "colab": {
          "base_uri": "https://localhost:8080/"
        },
        "id": "FxMWUz3G4sbn",
        "outputId": "574d72d4-5497-448c-dc0c-d40afa10e378"
      },
      "source": [
        "# Mediana histórica de las variables durante el periodo 1990-2018\n",
        "round(df[var_num].median(),2)"
      ],
      "execution_count": 7,
      "outputs": [
        {
          "output_type": "execute_result",
          "data": {
            "text/plain": [
              "total_respiratory_diseases                        7080.50\n",
              "respiratory_infections_and_tuberculosis_number    2995.50\n",
              "chronic_respiratory_diseases_number               4360.00\n",
              "all_greenhouse_gas                                  74.77\n",
              "CO2                                                 59.14\n",
              "CH4                                                 11.75\n",
              "N2O                                                  6.57\n",
              "Fgas                                                 1.53\n",
              "mean_annual_temp                                     9.65\n",
              "dtype: float64"
            ]
          },
          "metadata": {},
          "execution_count": 7
        }
      ]
    },
    {
      "cell_type": "markdown",
      "metadata": {
        "id": "NSD_rNG149gj"
      },
      "source": [
        "De igual forma observemos la mediana para el año inicial y final"
      ]
    },
    {
      "cell_type": "code",
      "metadata": {
        "colab": {
          "base_uri": "https://localhost:8080/"
        },
        "id": "GqbvXvvkTt3M",
        "outputId": "28bcaa2e-3588-41d2-a040-de4d67eeb620"
      },
      "source": [
        "# Mediana\n",
        "med_90 = df[df['year'] == 1990]['total_respiratory_diseases'].median()\n",
        "print(f'La mediana de las muertes por enfermedades respiratorias de los países de la OCDE en 1990 es de {med_90:,.2f}')\n",
        "\n",
        "med_18 = df[df['year'] == 2018]['total_respiratory_diseases'].median()\n",
        "print(f'La mediana de las muertes por enfermedades respiratorias de los países de la OCDE en 2018 es de {med_18:,.2f}')\n",
        "\n",
        "med_total = df['total_respiratory_diseases'].median()\n",
        "print(f'La mediana de las muertes por enfermedades respiratorias de los países de la OCDE durante el periodo 1990-2018 es de {med_total:,.2f}')"
      ],
      "execution_count": 8,
      "outputs": [
        {
          "output_type": "stream",
          "name": "stdout",
          "text": [
            "La mediana de las muertes por enfermedades respiratorias de los países de la OCDE en 1990 es de 7,142.50\n",
            "La mediana de las muertes por enfermedades respiratorias de los países de la OCDE en 2018 es de 9,291.50\n",
            "La mediana de las muertes por enfermedades respiratorias de los países de la OCDE durante el periodo 1990-2018 es de 7,080.50\n"
          ]
        }
      ]
    },
    {
      "cell_type": "markdown",
      "metadata": {
        "id": "0AH73aMWgrYe"
      },
      "source": [
        "Observemos que la mediana está muy por debajo de los valores promedios antes encontrados, por lo que los datos podrían estar sesgados a la derecha, o quizá haya presencia de outliers.\n",
        "\n",
        "Observemos ahora los valores por países y comparemos a estos con la media histórica de **7,080.50** "
      ]
    },
    {
      "cell_type": "code",
      "metadata": {
        "colab": {
          "base_uri": "https://localhost:8080/"
        },
        "id": "xWLXxW4wotZN",
        "outputId": "5fa1676e-c565-43f1-caae-2ec5f58cd31b"
      },
      "source": [
        "# Mediana por países\n",
        "mediana_country = paises['total_respiratory_diseases'].median()\n",
        "mediana_country"
      ],
      "execution_count": 9,
      "outputs": [
        {
          "output_type": "execute_result",
          "data": {
            "text/plain": [
              "country\n",
              "Australia          10801\n",
              "Austria             4045\n",
              "Belgium            12368\n",
              "Canada             19970\n",
              "Chile               9932\n",
              "Denmark             6227\n",
              "Estonia              628\n",
              "Finland             3214\n",
              "France             41708\n",
              "Germany            57109\n",
              "Greece              7040\n",
              "Hungary             6536\n",
              "Iceland              180\n",
              "Ireland             4091\n",
              "Israel              2550\n",
              "Italy              35621\n",
              "Japan             127779\n",
              "Latvia              1105\n",
              "Luxembourg           301\n",
              "Mexico             50934\n",
              "Netherlands        15496\n",
              "New Zealand         2579\n",
              "Norway              4596\n",
              "Poland             21106\n",
              "Portugal           11339\n",
              "Slovakia            3003\n",
              "Slovenia            1250\n",
              "Spain              42250\n",
              "Sweden              6939\n",
              "Switzerland         4772\n",
              "Turkey             41967\n",
              "United Kingdom     84571\n",
              "Name: total_respiratory_diseases, dtype: int64"
            ]
          },
          "metadata": {},
          "execution_count": 9
        }
      ]
    },
    {
      "cell_type": "markdown",
      "metadata": {
        "id": "UrkPLuqJrd9m"
      },
      "source": [
        "Observemos que también la mediana de cada país presenta una diferencia bastante grande respecto a la mediana histórica.\n",
        "\n",
        "Para entender mejor que podría estar pasando y encontrar una estadística más robusta de los datos, utilizaremos la media truncada, que nos permite recortar un porcentaje de los valores extremos de nuestra muestra, por lo que en caso de haber outliers estos pueden ser removidos del estadístico y eliminar el sesgo."
      ]
    },
    {
      "cell_type": "markdown",
      "metadata": {
        "id": "t_L-iNSogoiw"
      },
      "source": [
        "### Media Truncada"
      ]
    },
    {
      "cell_type": "code",
      "metadata": {
        "colab": {
          "base_uri": "https://localhost:8080/",
          "height": 328
        },
        "id": "arBFv0z15O8X",
        "outputId": "6fa39578-905b-4d69-ed46-c6feea9464a6"
      },
      "source": [
        "#Sacamos promedio de las variables durante el periodo 1990-2018\n",
        "media_truncada = stats.trim_mean(df[var_num], 0.25)\n",
        "\n",
        "pd.DataFrame({'variable': var_num, 'media_truncada': media_truncada})"
      ],
      "execution_count": 10,
      "outputs": [
        {
          "output_type": "execute_result",
          "data": {
            "text/html": [
              "<div>\n",
              "<style scoped>\n",
              "    .dataframe tbody tr th:only-of-type {\n",
              "        vertical-align: middle;\n",
              "    }\n",
              "\n",
              "    .dataframe tbody tr th {\n",
              "        vertical-align: top;\n",
              "    }\n",
              "\n",
              "    .dataframe thead th {\n",
              "        text-align: right;\n",
              "    }\n",
              "</style>\n",
              "<table border=\"1\" class=\"dataframe\">\n",
              "  <thead>\n",
              "    <tr style=\"text-align: right;\">\n",
              "      <th></th>\n",
              "      <th>variable</th>\n",
              "      <th>media_truncada</th>\n",
              "    </tr>\n",
              "  </thead>\n",
              "  <tbody>\n",
              "    <tr>\n",
              "      <th>0</th>\n",
              "      <td>total_respiratory_diseases</td>\n",
              "      <td>9405.002155</td>\n",
              "    </tr>\n",
              "    <tr>\n",
              "      <th>1</th>\n",
              "      <td>respiratory_infections_and_tuberculosis_number</td>\n",
              "      <td>3959.461207</td>\n",
              "    </tr>\n",
              "    <tr>\n",
              "      <th>2</th>\n",
              "      <td>chronic_respiratory_diseases_number</td>\n",
              "      <td>5467.137931</td>\n",
              "    </tr>\n",
              "    <tr>\n",
              "      <th>3</th>\n",
              "      <td>all_greenhouse_gas</td>\n",
              "      <td>125.729073</td>\n",
              "    </tr>\n",
              "    <tr>\n",
              "      <th>4</th>\n",
              "      <td>CO2</td>\n",
              "      <td>95.116358</td>\n",
              "    </tr>\n",
              "    <tr>\n",
              "      <th>5</th>\n",
              "      <td>CH4</td>\n",
              "      <td>17.206078</td>\n",
              "    </tr>\n",
              "    <tr>\n",
              "      <th>6</th>\n",
              "      <td>N2O</td>\n",
              "      <td>9.653858</td>\n",
              "    </tr>\n",
              "    <tr>\n",
              "      <th>7</th>\n",
              "      <td>Fgas</td>\n",
              "      <td>2.262565</td>\n",
              "    </tr>\n",
              "    <tr>\n",
              "      <th>8</th>\n",
              "      <td>mean_annual_temp</td>\n",
              "      <td>9.627191</td>\n",
              "    </tr>\n",
              "  </tbody>\n",
              "</table>\n",
              "</div>"
            ],
            "text/plain": [
              "                                         variable  media_truncada\n",
              "0                      total_respiratory_diseases     9405.002155\n",
              "1  respiratory_infections_and_tuberculosis_number     3959.461207\n",
              "2             chronic_respiratory_diseases_number     5467.137931\n",
              "3                              all_greenhouse_gas      125.729073\n",
              "4                                             CO2       95.116358\n",
              "5                                             CH4       17.206078\n",
              "6                                             N2O        9.653858\n",
              "7                                            Fgas        2.262565\n",
              "8                                mean_annual_temp        9.627191"
            ]
          },
          "metadata": {},
          "execution_count": 10
        }
      ]
    },
    {
      "cell_type": "code",
      "metadata": {
        "colab": {
          "base_uri": "https://localhost:8080/"
        },
        "id": "k5xEabSYgIey",
        "outputId": "7eb19a65-b6c3-414a-d782-9766bebe56a2"
      },
      "source": [
        "# Ahora observemos la media truncada pero oara el año inicial y el año final\n",
        "med_trun_90 = stats.trim_mean(df[df['year'] == 1990]['total_respiratory_diseases'], 0.05)\n",
        "print(f'La media truncada de las muertes por enfermedades respiratorias de los países de la OCDE en 1990 es de {med_trun_90:,.2f}')\n",
        "\n",
        "med_trun_18 = stats.trim_mean(df[df['year'] == 2018]['total_respiratory_diseases'],0.05)\n",
        "print(f'La media truncada de las muertes por enfermedades respiratorias de los países de la OCDE en 2018 es de {med_trun_18:,.2f}')\n",
        "\n",
        "med_trun_total = stats.trim_mean(df['total_respiratory_diseases'], 0.05)\n",
        "print(f'La media truncada de las muertes por enfermedades respiratorias de los países de la OCDE durante el periodo 1990-2018 es de {med_trun_total:,.2f}')\n"
      ],
      "execution_count": 12,
      "outputs": [
        {
          "output_type": "stream",
          "name": "stdout",
          "text": [
            "La media truncada de las muertes por enfermedades respiratorias de los países de la OCDE en 1990 es de 16,826.40\n",
            "La media truncada de las muertes por enfermedades respiratorias de los países de la OCDE en 2018 es de 20,040.53\n",
            "La media truncada de las muertes por enfermedades respiratorias de los países de la OCDE durante el periodo 1990-2018 es de 16,107.31\n"
          ]
        }
      ]
    },
    {
      "cell_type": "markdown",
      "metadata": {
        "id": "RaFLZKX_wRSc"
      },
      "source": [
        "Para visualizar mejor nuestros datos creamos una tabla que contenga las medidas de tendencia central que ya hemos encontrado."
      ]
    },
    {
      "cell_type": "code",
      "metadata": {
        "colab": {
          "base_uri": "https://localhost:8080/",
          "height": 142
        },
        "id": "LSAflyvBmBCz",
        "outputId": "46fe7c46-aa22-4dcb-f859-8118382200f7"
      },
      "source": [
        "dic = {'periodo': [1990, 2018, 'total_historico'], 'media': [mean_90, mean_18, mean_total], 'mediana': [med_90, med_18, med_total],'media_truncada':[med_trun_90, med_trun_18, med_trun_total]}\n",
        "medidas_centrales = pd.DataFrame(dic)\n",
        "round(medidas_centrales,2)"
      ],
      "execution_count": 13,
      "outputs": [
        {
          "output_type": "execute_result",
          "data": {
            "text/html": [
              "<div>\n",
              "<style scoped>\n",
              "    .dataframe tbody tr th:only-of-type {\n",
              "        vertical-align: middle;\n",
              "    }\n",
              "\n",
              "    .dataframe tbody tr th {\n",
              "        vertical-align: top;\n",
              "    }\n",
              "\n",
              "    .dataframe thead th {\n",
              "        text-align: right;\n",
              "    }\n",
              "</style>\n",
              "<table border=\"1\" class=\"dataframe\">\n",
              "  <thead>\n",
              "    <tr style=\"text-align: right;\">\n",
              "      <th></th>\n",
              "      <th>periodo</th>\n",
              "      <th>media</th>\n",
              "      <th>mediana</th>\n",
              "      <th>media_truncada</th>\n",
              "    </tr>\n",
              "  </thead>\n",
              "  <tbody>\n",
              "    <tr>\n",
              "      <th>0</th>\n",
              "      <td>1990</td>\n",
              "      <td>18863.88</td>\n",
              "      <td>7142.5</td>\n",
              "      <td>16826.40</td>\n",
              "    </tr>\n",
              "    <tr>\n",
              "      <th>1</th>\n",
              "      <td>2018</td>\n",
              "      <td>24183.38</td>\n",
              "      <td>9291.5</td>\n",
              "      <td>20040.53</td>\n",
              "    </tr>\n",
              "    <tr>\n",
              "      <th>2</th>\n",
              "      <td>total_historico</td>\n",
              "      <td>20294.36</td>\n",
              "      <td>7080.5</td>\n",
              "      <td>16107.31</td>\n",
              "    </tr>\n",
              "  </tbody>\n",
              "</table>\n",
              "</div>"
            ],
            "text/plain": [
              "           periodo     media  mediana  media_truncada\n",
              "0             1990  18863.88   7142.5        16826.40\n",
              "1             2018  24183.38   9291.5        20040.53\n",
              "2  total_historico  20294.36   7080.5        16107.31"
            ]
          },
          "metadata": {},
          "execution_count": 13
        }
      ]
    },
    {
      "cell_type": "code",
      "metadata": {
        "colab": {
          "base_uri": "https://localhost:8080/",
          "height": 235
        },
        "id": "kPno0UgbXNyK",
        "outputId": "67113cfd-a501-4e68-8fbf-69083ec1f95a"
      },
      "source": [
        "# Tablas de las medidas de tendencia central por país\n",
        "dic_2 = {'media': mean_country, 'mediana': mediana_country}\n",
        "medidas_centrales_paises = pd.DataFrame(dic_2)\n",
        "medidas_centrales_paises.head()"
      ],
      "execution_count": 20,
      "outputs": [
        {
          "output_type": "execute_result",
          "data": {
            "text/html": [
              "<div>\n",
              "<style scoped>\n",
              "    .dataframe tbody tr th:only-of-type {\n",
              "        vertical-align: middle;\n",
              "    }\n",
              "\n",
              "    .dataframe tbody tr th {\n",
              "        vertical-align: top;\n",
              "    }\n",
              "\n",
              "    .dataframe thead th {\n",
              "        text-align: right;\n",
              "    }\n",
              "</style>\n",
              "<table border=\"1\" class=\"dataframe\">\n",
              "  <thead>\n",
              "    <tr style=\"text-align: right;\">\n",
              "      <th></th>\n",
              "      <th>media</th>\n",
              "      <th>mediana</th>\n",
              "    </tr>\n",
              "    <tr>\n",
              "      <th>country</th>\n",
              "      <th></th>\n",
              "      <th></th>\n",
              "    </tr>\n",
              "  </thead>\n",
              "  <tbody>\n",
              "    <tr>\n",
              "      <th>Australia</th>\n",
              "      <td>11232.07</td>\n",
              "      <td>10801</td>\n",
              "    </tr>\n",
              "    <tr>\n",
              "      <th>Austria</th>\n",
              "      <td>4044.55</td>\n",
              "      <td>4045</td>\n",
              "    </tr>\n",
              "    <tr>\n",
              "      <th>Belgium</th>\n",
              "      <td>12119.97</td>\n",
              "      <td>12368</td>\n",
              "    </tr>\n",
              "    <tr>\n",
              "      <th>Canada</th>\n",
              "      <td>20468.45</td>\n",
              "      <td>19970</td>\n",
              "    </tr>\n",
              "    <tr>\n",
              "      <th>Chile</th>\n",
              "      <td>9785.34</td>\n",
              "      <td>9932</td>\n",
              "    </tr>\n",
              "  </tbody>\n",
              "</table>\n",
              "</div>"
            ],
            "text/plain": [
              "              media  mediana\n",
              "country                     \n",
              "Australia  11232.07    10801\n",
              "Austria     4044.55     4045\n",
              "Belgium    12119.97    12368\n",
              "Canada     20468.45    19970\n",
              "Chile       9785.34     9932"
            ]
          },
          "metadata": {},
          "execution_count": 20
        }
      ]
    },
    {
      "cell_type": "markdown",
      "metadata": {
        "id": "PC6n9sJHzcDk"
      },
      "source": [
        "Notemos que los estadísticos se encuentran lejos de coincidir, lo que podría deducirse que existen algunos años en los que el número de muertes por enfermedades respiratorias fueron realmente atípicos.\n",
        "\n",
        "No obstante también debemos plantearnos el caso de cada país, es decir que habrá países con números muy bajos de fallecimientos por enfermedades respiratorias, mientras que habrá otros con altas defunciones por este motivo. lo que claramente estaría sesgando la estadística y por lo cual es necesario también análizar el caso para cada país."
      ]
    },
    {
      "cell_type": "markdown",
      "metadata": {
        "id": "Cw02ipi9b8Uj"
      },
      "source": [
        "### Desviación Estándar"
      ]
    },
    {
      "cell_type": "code",
      "metadata": {
        "colab": {
          "base_uri": "https://localhost:8080/"
        },
        "id": "cZ_G80DPb7_k",
        "outputId": "c5de9ef7-7b76-4125-a27e-552f30ef768c"
      },
      "source": [
        "# Deviación estándar de las variables númericas de interés\n",
        "df[var_num].std()"
      ],
      "execution_count": 22,
      "outputs": [
        {
          "output_type": "execute_result",
          "data": {
            "text/plain": [
              "total_respiratory_diseases                        28870.920713\n",
              "respiratory_infections_and_tuberculosis_number    17750.419833\n",
              "chronic_respiratory_diseases_number               12857.808723\n",
              "all_greenhouse_gas                                  305.860433\n",
              "CO2                                                 260.161024\n",
              "CH4                                                  38.572636\n",
              "N2O                                                  18.938883\n",
              "Fgas                                                  7.236887\n",
              "mean_annual_temp                                      5.671693\n",
              "dtype: float64"
            ]
          },
          "metadata": {},
          "execution_count": 22
        }
      ]
    },
    {
      "cell_type": "code",
      "metadata": {
        "colab": {
          "base_uri": "https://localhost:8080/"
        },
        "id": "AErwK3D8dink",
        "outputId": "f609946b-0e10-4e32-cf66-296c29dc90b6"
      },
      "source": [
        "# Desviación estándar de las muertes por enfermedades respiratorias por países\n",
        "round(paises['total_respiratory_diseases'].std(),2)"
      ],
      "execution_count": 23,
      "outputs": [
        {
          "output_type": "execute_result",
          "data": {
            "text/plain": [
              "country\n",
              "Australia          1711.98\n",
              "Austria             256.70\n",
              "Belgium             857.67\n",
              "Canada             2574.39\n",
              "Chile               632.92\n",
              "Denmark             442.83\n",
              "Estonia              89.66\n",
              "Finland             845.24\n",
              "France             3063.71\n",
              "Germany            5806.13\n",
              "Greece             2340.38\n",
              "Hungary             653.40\n",
              "Iceland              10.26\n",
              "Ireland             452.15\n",
              "Israel              494.13\n",
              "Italy              2822.53\n",
              "Japan             21320.53\n",
              "Latvia              201.42\n",
              "Luxembourg           19.66\n",
              "Mexico             5003.18\n",
              "Netherlands        1568.90\n",
              "New Zealand         202.72\n",
              "Norway              119.68\n",
              "Poland             1325.55\n",
              "Portugal           2039.03\n",
              "Slovakia            321.73\n",
              "Slovenia            119.56\n",
              "Spain              4919.31\n",
              "Sweden              243.94\n",
              "Switzerland         316.67\n",
              "Turkey             6519.09\n",
              "United Kingdom     5200.29\n",
              "Name: total_respiratory_diseases, dtype: float64"
            ]
          },
          "metadata": {},
          "execution_count": 23
        }
      ]
    },
    {
      "cell_type": "markdown",
      "metadata": {
        "id": "TESc_4f0f8EM"
      },
      "source": [
        "### Rango"
      ]
    },
    {
      "cell_type": "code",
      "metadata": {
        "colab": {
          "base_uri": "https://localhost:8080/"
        },
        "id": "VVGvL8WrSuka",
        "outputId": "7ee5ad56-f7a3-47a5-fc2a-aa6abbb86e53"
      },
      "source": [
        "# Rango de las muertes por enfermedades respiratorias\n",
        "df_1990 = df['year'] == 1990\n",
        "df_2018 = df['year'] == 2018\n",
        "range_1990 = df[df_1990]['total_respiratory_diseases'].max() - df[df_1990]['total_respiratory_diseases'].min()\n",
        "range_2018 = df[df_2018]['total_respiratory_diseases'].max() - df[df_2018]['total_respiratory_diseases'].min()\n",
        "range_total = df['total_respiratory_diseases'].max() - df['total_respiratory_diseases'].min()\n",
        "print(f\"El rango de muertes de los países de la OCDE en 1990 fue de: {range_1990:,}\")\n",
        "print(f\"El rango de muertes de los países de la OCDE en 2018 fue de: {range_2018:,}\")\n",
        "print(f\"El rango de muertes de los países de la OCDE desde 1990 a 2018 fue de: {range_total:,}\")"
      ],
      "execution_count": 30,
      "outputs": [
        {
          "output_type": "stream",
          "name": "stdout",
          "text": [
            "El rango de muertes de los países de la OCDE en 1990 fue de: 98,504\n",
            "El rango de muertes de los países de la OCDE en 2018 fue de: 172,232\n",
            "El rango de muertes de los países de la OCDE desde 1990 a 2018 fue de: 172,275\n"
          ]
        }
      ]
    },
    {
      "cell_type": "markdown",
      "metadata": {
        "id": "7X6lrDcxSukc"
      },
      "source": [
        "### Percentiles"
      ]
    },
    {
      "cell_type": "code",
      "metadata": {
        "colab": {
          "base_uri": "https://localhost:8080/"
        },
        "id": "jqbHBpkUSukd",
        "outputId": "9acc4294-63d5-4b5f-904e-30e69191dafc"
      },
      "source": [
        "# Percentiles de las muertes por enfermedades respiratorias en 1990\n",
        "print(\"Muertes por enfermedades respiratorias en 1990\")\n",
        "print(f\"Valor mínimo: {df[df_1990]['total_respiratory_diseases'].min():,}\")\n",
        "print(f\"Percentil 10: {df[df_1990]['total_respiratory_diseases'].quantile(0.1):,}\")\n",
        "print(f\"Percentil 25: {df[df_1990]['total_respiratory_diseases'].quantile(0.25):,}\")\n",
        "print(f\"Percentil 50: {df[df_1990]['total_respiratory_diseases'].median():,}\")\n",
        "print(f\"Percentil 75: {df[df_1990]['total_respiratory_diseases'].quantile(0.75):,}\")\n",
        "print(f\"Percentil 90: {df[df_1990]['total_respiratory_diseases'].quantile(0.9):,}\")\n",
        "print(f\"Valor máximo: {df[df_1990]['total_respiratory_diseases'].max():,}\")"
      ],
      "execution_count": 37,
      "outputs": [
        {
          "output_type": "stream",
          "name": "stdout",
          "text": [
            "Muertes por enfermedades respiratorias en 1990\n",
            "Valor mínimo: 174\n",
            "Percentil 10: 1,250.6\n",
            "Percentil 25: 3,984.25\n",
            "Percentil 50: 7,142.5\n",
            "Percentil 75: 25,909.5\n",
            "Percentil 90: 56,117.8\n",
            "Valor máximo: 98,678\n"
          ]
        }
      ]
    },
    {
      "cell_type": "code",
      "metadata": {
        "colab": {
          "base_uri": "https://localhost:8080/"
        },
        "id": "JuPp7iz9Suke",
        "outputId": "533342d3-b48e-4cd9-e85f-248e7a76591a"
      },
      "source": [
        "# Percentiles de las muertes por enfermedades respiratorias en 2018\n",
        "print(\"Muertes por enfermedades respiratorias en 2018\")\n",
        "print(f\"Valor mínimo: {df[df_2018]['total_respiratory_diseases'].min()}\")\n",
        "print(f\"Percentil 10: {df[df_2018]['total_respiratory_diseases'].quantile(0.1):,.2f}\")\n",
        "print(f\"Percentil 25: {df[df_2018]['total_respiratory_diseases'].quantile(0.25):,.2f}\")\n",
        "print(f\"Percentil 50: {df[df_2018]['total_respiratory_diseases'].median():,.2f}\")\n",
        "print(f\"Percentil 75: {df[df_2018]['total_respiratory_diseases'].quantile(0.75):,.2f}\")\n",
        "print(f\"Percentil 90: {df[df_2018]['total_respiratory_diseases'].quantile(0.9):,.2f}\")\n",
        "print(f\"Valor máximo: {df[df_2018]['total_respiratory_diseases'].max():,}\")"
      ],
      "execution_count": 43,
      "outputs": [
        {
          "output_type": "stream",
          "name": "stdout",
          "text": [
            "Muertes por enfermedades respiratorias en 2018\n",
            "Valor mínimo: 210\n",
            "Percentil 10: 883.80\n",
            "Percentil 25: 3,585.75\n",
            "Percentil 50: 9,291.50\n",
            "Percentil 75: 30,961.75\n",
            "Percentil 90: 60,490.30\n",
            "Valor máximo: 172,442\n"
          ]
        }
      ]
    },
    {
      "cell_type": "code",
      "metadata": {
        "colab": {
          "base_uri": "https://localhost:8080/"
        },
        "id": "MSwN-LCjSukf",
        "outputId": "0541d41a-f5d3-4053-8202-e2ecae97736e"
      },
      "source": [
        "# Percentiles de las muertes durante el periodo de 1990 a 2018\n",
        "print(\"Muertes por enfermedades respiratorias durante el periodo de 1990 a 2018\")\n",
        "print(f\"Valor mínimo: {df['total_respiratory_diseases'].min()}\")\n",
        "print(f\"Percentil 10: {df['total_respiratory_diseases'].quantile(0.1)}\")\n",
        "print(f\"Percentil 25: {df['total_respiratory_diseases'].quantile(0.25):,}\")\n",
        "print(f\"Percentil 50: {df['total_respiratory_diseases'].median():,}\")\n",
        "print(f\"Percentil 75: {df['total_respiratory_diseases'].quantile(0.75):,}\")\n",
        "print(f\"Percentil 90: {df['total_respiratory_diseases'].quantile(0.9):,.2f}\")\n",
        "print(f\"Valor máximo: {df['total_respiratory_diseases'].max()}\")"
      ],
      "execution_count": 40,
      "outputs": [
        {
          "output_type": "stream",
          "name": "stdout",
          "text": [
            "Muertes por enfermedades respiratorias durante el periodo de 1990 a 2018\n",
            "Valor mínimo: 167\n",
            "Percentil 10: 902.5\n",
            "Percentil 25: 3,208.75\n",
            "Percentil 50: 7,080.5\n",
            "Percentil 75: 28,337.25\n",
            "Percentil 90: 52,273.10\n",
            "Valor máximo: 172442\n"
          ]
        }
      ]
    },
    {
      "cell_type": "markdown",
      "metadata": {
        "id": "s1qLt8UlSukf"
      },
      "source": [
        "### Rango intercuartilico"
      ]
    },
    {
      "cell_type": "code",
      "metadata": {
        "colab": {
          "base_uri": "https://localhost:8080/"
        },
        "id": "ZJvNzrrZSukg",
        "outputId": "403916ae-8cbc-4c90-d373-d98f4de42390"
      },
      "source": [
        "# Rango intercuartílico de las muertes en 1990\n",
        "q3_1990 = df[df_1990]['total_respiratory_diseases'].quantile(0.75)\n",
        "q1_1990 = df[df_1990]['total_respiratory_diseases'].quantile(0.25)\n",
        "q3_2018 = df[df_2018]['total_respiratory_diseases'].quantile(0.75)\n",
        "q1_2018 = df[df_2018]['total_respiratory_diseases'].quantile(0.25)\n",
        "q3 = df['total_respiratory_diseases'].quantile(0.75)\n",
        "q1 = df['total_respiratory_diseases'].quantile(0.25)\n",
        "\n",
        "print(f\"Rango intercuartilico de las muertes en 1990: {q3_1990 - q1_1990:,}\")\n",
        "print(f\"Rango intercuartilico de las muertes en 2018: {q3_2018 - q1_2018:,}\")\n",
        "print(f\"Rango intercuartilico de las muertes desde 1990 a 2018: {q3 - q1:,}\")"
      ],
      "execution_count": 44,
      "outputs": [
        {
          "output_type": "stream",
          "name": "stdout",
          "text": [
            "Rango intercuartilico de las muertes en 1990: 21,925.25\n",
            "Rango intercuartilico de las muertes en 2018: 27,376.0\n",
            "Rango intercuartilico de las muertes desde 1990 a 2018: 25,128.5\n"
          ]
        }
      ]
    },
    {
      "cell_type": "code",
      "metadata": {
        "id": "YzsuH1JJbrcj"
      },
      "source": [
        ""
      ],
      "execution_count": null,
      "outputs": []
    }
  ]
}